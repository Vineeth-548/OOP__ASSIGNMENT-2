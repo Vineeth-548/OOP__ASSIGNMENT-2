{
  "nbformat": 4,
  "nbformat_minor": 0,
  "metadata": {
    "colab": {
      "name": "LAB  ASSIGNMENT - 2.ipynb",
      "provenance": [],
      "authorship_tag": "ABX9TyM3wAxV1QiTGn7F5iNQHyfs",
      "include_colab_link": true
    },
    "kernelspec": {
      "display_name": "Python 3",
      "name": "python3"
    },
    "language_info": {
      "name": "python"
    }
  },
  "cells": [
    {
      "cell_type": "markdown",
      "metadata": {
        "id": "view-in-github",
        "colab_type": "text"
      },
      "source": [
        "<a href=\"https://colab.research.google.com/github/Vineeth-548/OOP__ASSIGNMENT-2/blob/main/OOP_ASSIGNMENT_2.ipynb\" target=\"_parent\"><img src=\"https://colab.research.google.com/assets/colab-badge.svg\" alt=\"Open In Colab\"/></a>"
      ]
    },
    {
      "cell_type": "markdown",
      "metadata": {
        "id": "OIcjMWfgOqWY"
      },
      "source": [
        "**Problem-1:**\n",
        "\n",
        "Create a  python  class  circle, constructed  by  a  radius  and  two  methods that  will  compute  the  area  and  the  perimeter  of  a  circle."
      ]
    },
    {
      "cell_type": "code",
      "metadata": {
        "colab": {
          "base_uri": "https://localhost:8080/"
        },
        "id": "tkiwUfM8iYbM",
        "outputId": "ac839046-595c-4ba0-8ce4-326190cbc8c8"
      },
      "source": [
        "class circle( object ):\n",
        "  def __init__(self,radius):\n",
        "    self.radius = radius\n",
        "\n",
        "  def area(self):\n",
        "      print(\"Area : \", 3.14*(self.radius)**2)\n",
        "      \n",
        "  def perimeter(self):\n",
        "      print(\"Perimeter : \", 2*3.14*(self.radius))\n",
        "\n",
        "object = circle(5)\n",
        "object.area()\n",
        "object.perimeter()\n"
      ],
      "execution_count": 82,
      "outputs": [
        {
          "output_type": "stream",
          "name": "stdout",
          "text": [
            "Area :  78.5\n",
            "Perimeter :  31.400000000000002\n"
          ]
        }
      ]
    },
    {
      "cell_type": "markdown",
      "metadata": {
        "id": "B0w8KUEAPgqO"
      },
      "source": [
        "**Problem-2:**\n",
        "\n",
        "Write a python program to enter the data of a 5 teaching faculty and display it. (Data\n",
        "of a Faculty: Name, Emp ID, Branch, Salary)."
      ]
    },
    {
      "cell_type": "code",
      "metadata": {
        "colab": {
          "base_uri": "https://localhost:8080/"
        },
        "id": "mg9AYvXC44AK",
        "outputId": "aab71ec3-b826-42d0-ac38-4a211705f690"
      },
      "source": [
        "class faculty : \n",
        "   def __init__(self):\n",
        "      self.name = []\n",
        "      self.id = []\n",
        "      self.branch = []\n",
        "      self.salary = []\n",
        "\n",
        "   def collect(self):\n",
        "     print(\"Enter  Faculty  Details\")\n",
        "     print(\"----------------------------------------------\")\n",
        "     for i in range(0,5):\n",
        "      self.name.append(input(\"Faculty Name : \"))\n",
        "      self.id.append(input(\"Emp ID : \"))\n",
        "      self.branch.append(input(\"Branch : \"))\n",
        "      self.salary.append(input(\"Salary : \"))\n",
        "      print(\"\\n\")\n",
        "\n",
        "   def display(self):\n",
        "    print(\" Displaying  Faculty  Details\")\n",
        "    print(\"-----------------------------------------------\")\n",
        "    for i in range(0,5):\n",
        "      print(\"Faculty Name : \"+ self.name[i] + '\\n' + \"Emp ID : \" + self.id[i]  + '\\n' + \"Branch : \" + self.branch[i] + '\\n' + \"Salary : \" + self.salary[i] + '\\n')\n",
        "\n",
        "f = faculty()\n",
        "f.collect()\n",
        "f.display()"
      ],
      "execution_count": 24,
      "outputs": [
        {
          "output_type": "stream",
          "name": "stdout",
          "text": [
            "Enter  Faculty  Details\n",
            "----------------------------------------------\n",
            "Faculty Name : Dr. Anand\n",
            "Emp ID : MA201\n",
            "Branch : Computer Science Engineering\n",
            "Salary : 150000\n",
            "\n",
            "\n",
            "Faculty Name : Dr. Pramod\n",
            "Emp ID : CS201\n",
            "Branch : Computer Science Engineering\n",
            "Salary : 100000\n",
            "\n",
            "\n",
            "Faculty Name : Dr. Uma\n",
            "Emp ID : CS207\n",
            "Branch : Computer Science Engineering\n",
            "Salary : 150000\n",
            "\n",
            "\n",
            "Faculty Name : Dr. Prabhu Prasad\n",
            "Emp ID : CS208\n",
            "Branch : Computer Science Engineering\n",
            "Salary : 150000\n",
            "\n",
            "\n",
            "Faculty Name : Dr. Malay Kumar\n",
            "Emp ID : CS202\n",
            "Branch : Computer Science Engineering\n",
            "Salary : 150000\n",
            "\n",
            "\n",
            " Displaying  Faculty  Details\n",
            "-----------------------------------------------\n",
            "Faculty Name : Dr. Anand\n",
            "Emp ID : MA201\n",
            "Branch : Computer Science Engineering\n",
            "Salary : 150000\n",
            "\n",
            "Faculty Name : Dr. Pramod\n",
            "Emp ID : CS201\n",
            "Branch : Computer Science Engineering\n",
            "Salary : 100000\n",
            "\n",
            "Faculty Name : Dr. Uma\n",
            "Emp ID : CS207\n",
            "Branch : Computer Science Engineering\n",
            "Salary : 150000\n",
            "\n",
            "Faculty Name : Dr. Prabhu Prasad\n",
            "Emp ID : CS208\n",
            "Branch : Computer Science Engineering\n",
            "Salary : 150000\n",
            "\n",
            "Faculty Name : Dr. Malay Kumar\n",
            "Emp ID : CS202\n",
            "Branch : Computer Science Engineering\n",
            "Salary : 150000\n",
            "\n"
          ]
        }
      ]
    },
    {
      "cell_type": "markdown",
      "metadata": {
        "id": "h-qpjxhiP8OU"
      },
      "source": [
        "**Problem-3:**\n",
        "\n",
        "Write a python program to demonstrate the working of the banking system.\n",
        "\n",
        "1. Create account class with data members (Account No, Account holder name,\n",
        "Amount)\n",
        "2. Crete constructor to initialize data members.\n",
        "3. Create member functions (Deposit, withdraw, check balance, and display account details)"
      ]
    },
    {
      "cell_type": "code",
      "metadata": {
        "id": "Hxrz0EEYi0Ap",
        "colab": {
          "base_uri": "https://localhost:8080/"
        },
        "outputId": "86145672-4df6-491b-d29f-753980064795"
      },
      "source": [
        "class account:\n",
        "  def __init__(self):\n",
        "    self.amount= 0.00\n",
        "    self.balance = 0.00\n",
        "\n",
        "  def deposit(self):\n",
        "    print(\"****************** Welcome to ABC Bank ***************************\")\n",
        "    print(\"----------------------------------------------------------------\")\n",
        "    self.number = int(input(\"Enter your account number : \"))\n",
        "    self.name = input(\"Enter your name : \")\n",
        "    self.balance = float(input(\"Enter Deposit Amount : \"))\n",
        "    print(\"\\nRs.{} deposited succesfully in your Account\".format(self.balance))\n",
        "    print(\"-------------------------------------------------------------\")\n",
        "\n",
        "  def withdrew(self):\n",
        "    self.amount = float(input(\"Enter Withdraw Amount : \"))\n",
        "    if self.amount <= self.balance :\n",
        "      print(\"Rs.{} withdrawn succesfully from your Account\\n\".format(self.amount))\n",
        "    else : \n",
        "      print(\"Insufficient Balance in your Account\\n\")\n",
        "      self.withdrew()\n",
        "\n",
        "  def Balance(self):\n",
        "    print(\"Displaying Amount Balance\")\n",
        "    print(\"---------------------------------------------\")\n",
        "    print(\"Balance : Rs.{} \\n\".format(self.balance - self.amount))\n",
        "\n",
        "  def display(self):\n",
        "    print(\"Displaying Account Details\")\n",
        "    print(\"---------------------------------------------\")\n",
        "    print(\"Account Number : \", self.number)\n",
        "    print(\"Account Holder Name : \", self.name)\n",
        "    print(\"Account Balance : \", self.balance - self.amount)\n",
        "  \n",
        "c=account()\n",
        "c.deposit()\n",
        "c.withdrew()\n",
        "c.Balance()\n",
        "c.display()"
      ],
      "execution_count": 15,
      "outputs": [
        {
          "output_type": "stream",
          "name": "stdout",
          "text": [
            "****************** Welcome to ABC Bank ***************************\n",
            "----------------------------------------------------------------\n",
            "Enter your account number : 193470000195\n",
            "Enter your name : Vineeth S R\n",
            "Enter Deposit Amount : 165000\n",
            "\n",
            "Rs.165000.0 deposited succesfully in your Account\n",
            "-------------------------------------------------------------\n",
            "Enter Withdraw Amount : 125000\n",
            "Rs.125000.0 withdrawn succesfully from your Account\n",
            "\n",
            "Displaying Amount Balance\n",
            "---------------------------------------------\n",
            "Balance : Rs.40000.0 \n",
            "\n",
            "Displaying Account Details\n",
            "---------------------------------------------\n",
            "Account Number :  193470000195\n",
            "Account Holder Name :  Vineeth S R\n",
            "Account Balance :  40000.0\n"
          ]
        }
      ]
    },
    {
      "cell_type": "markdown",
      "metadata": {
        "id": "06KR0ip-bBYW"
      },
      "source": [
        "**Problem-4:**\n",
        "\n",
        "Write a python program to store and display the student name, USN, and marks of a\n",
        "student. Use the list to store the marks of a student in three subjects."
      ]
    },
    {
      "cell_type": "code",
      "metadata": {
        "colab": {
          "base_uri": "https://localhost:8080/"
        },
        "id": "-pnte9bri9RP",
        "outputId": "48429746-8393-425d-8dd2-fbd8335eb015"
      },
      "source": [
        "class student:\n",
        "  def __init__(self):\n",
        "    self.name = []\n",
        "    self.usn = []\n",
        "    self.marks = []\n",
        "\n",
        "  def store(self):\n",
        "    self.name.append(input(\"Student Name : \"))\n",
        "    self.usn.append(input(\"Student USN : \"))\n",
        "    self.marks.append(input(\"Marks of a Student : \"))\n",
        "\n",
        "  def display(self):\n",
        "    i=(len(self.name)-1)\n",
        "    for i in range(len(self.name)):\n",
        "      print(\"\\nStudent Name : \" + self.name[i])\n",
        "      print(\"Student USN : \" + self.usn[i])\n",
        "      print(\"Student marks : \" + self.marks[i])\n",
        "\n",
        "s = student()\n",
        "while(1):\n",
        "  print(\"\\nEnter your choice\")\n",
        "  print(\"-------------------------------------------------\")\n",
        "  print(\" 1)To Store Student Details \\n 2)To Display Student Details \\n 3)Exit \\n\")\n",
        "  n = int(input())\n",
        "  if n==1:\n",
        "    print(\"Storing Student Details\")\n",
        "    print(\"-----------------------------------------------\")\n",
        "    s.store()\n",
        "  elif n==2:\n",
        "    print(\"Displaying Student Details\")\n",
        "    print(\"-----------------------------------------------\")\n",
        "    s.display()\n",
        "  else :\n",
        "    print(\"-----------------------EXIT--------------------------\")\n",
        "    break"
      ],
      "execution_count": 26,
      "outputs": [
        {
          "output_type": "stream",
          "name": "stdout",
          "text": [
            "\n",
            "Enter your choice\n",
            "-------------------------------------------------\n",
            " 1)To Store Student Details \n",
            " 2)To Display Student Details \n",
            " 3)Exit \n",
            "\n",
            "1\n",
            "Storing Student Details\n",
            "-----------------------------------------------\n",
            "Student Name : Vineeth S R\n",
            "Student USN : 137\n",
            "Marks of a Student : 87, 73, 90\n",
            "\n",
            "Enter your choice\n",
            "-------------------------------------------------\n",
            " 1)To Store Student Details \n",
            " 2)To Display Student Details \n",
            " 3)Exit \n",
            "\n",
            "1\n",
            "Storing Student Details\n",
            "-----------------------------------------------\n",
            "Student Name : Pranay\n",
            "Student USN : 196\n",
            "Marks of a Student : 75, 63, 82\n",
            "\n",
            "Enter your choice\n",
            "-------------------------------------------------\n",
            " 1)To Store Student Details \n",
            " 2)To Display Student Details \n",
            " 3)Exit \n",
            "\n",
            "2\n",
            "Displaying Student Details\n",
            "-----------------------------------------------\n",
            "\n",
            "Student Name : Vineeth S R\n",
            "Student USN : 137\n",
            "Student marks : 87, 73, 90\n",
            "\n",
            "Student Name : Pranay\n",
            "Student USN : 196\n",
            "Student marks : 75, 63, 82\n",
            "\n",
            "Enter your choice\n",
            "-------------------------------------------------\n",
            " 1)To Store Student Details \n",
            " 2)To Display Student Details \n",
            " 3)Exit \n",
            "\n",
            "3\n",
            "-----------------------EXIT--------------------------\n"
          ]
        }
      ]
    },
    {
      "cell_type": "markdown",
      "metadata": {
        "id": "RfLxcCDgdSR5"
      },
      "source": [
        "**Problem-5:**\n",
        "\n",
        "A hospital wants to create a database regarding covid-19 patients. The information to store include:\n",
        "1. Name of the patient\n",
        "2. Date of admission.\n",
        "3. List of symptoms.\n",
        "4. Oxygen level.\n",
        "5. Date of discharge.\n",
        "\n",
        "Note: If the oxygen level is less than 90, then the patient is put on oxygen support else\n",
        "moved to the general ward for observation.\n",
        "\n",
        "Create a class to store the above information. The member function should include a\n",
        "function to enter patient’s information, check the severity, display the number of\n",
        "patients required oxygen support, number of patients in the general ward for\n",
        "observation, and the total number of patients admitted."
      ]
    },
    {
      "cell_type": "code",
      "metadata": {
        "id": "sm3ZRp8ujNfH",
        "colab": {
          "base_uri": "https://localhost:8080/"
        },
        "outputId": "b13f629a-f82c-4790-bebb-50f6c73143ef"
      },
      "source": [
        "class hospital : \n",
        "  def __init__(self):\n",
        "    self.name = []\n",
        "    self.admit = []\n",
        "    self.symptoms = []\n",
        "    self.oxygen = []\n",
        "    self.discharge = []\n",
        "\n",
        "  def patient(self):\n",
        "    self.name.append(input(\"Patient Name : \"))\n",
        "    self.admit.append(input(\"Date of Admission : \"))\n",
        "    self.symptoms.append(input(\"List of Symptoms : \"))\n",
        "    self.oxygen.append(int(input(\"Oxygen level : \")))\n",
        "    self.discharge.append(input(\"Date of Discharge : \"))\n",
        "\n",
        "  def severity(self):\n",
        "    p = input(\"Patient Name : \")\n",
        "    if p in self.name :\n",
        "      if self.oxygen[self.name.index(p)] < 90 :\n",
        "         print(\"Patient is in severe condition.\")\n",
        "      else :\n",
        "        print(\"Patient is not in severe condition.\")\n",
        "    else :\n",
        "      print(\"No patient with this name\")\n",
        "\n",
        "  def  oxy_support(self):\n",
        "    count = 0\n",
        "    for x in range(len(self.oxygen)):\n",
        "        if self.oxygen[x] < 90 :\n",
        "          count = count + 1\n",
        "          print(\"\\nNumber of patients required oxygen support : \",count)\n",
        "\n",
        "  def general(self):\n",
        "    count = 0\n",
        "    for x in range(len(self.oxygen)):\n",
        "        if self.oxygen[x] >= 90 :\n",
        "          count = count + 1\n",
        "          print(\"\\nNumber of patients in general ward for observation : \",count)\n",
        "\n",
        "  def total(self):\n",
        "    return print(\"\\nTotal number of patients admitted : \",len(self.name))           \n",
        "\n",
        "c = hospital()\n",
        "while(1):\n",
        "  print(\"\\nEnter your choice\")\n",
        "  print(\"----------------------------------------------------\")\n",
        "  print(\"1) Patient's Info \\n2) Check patient's severity \\n3) Patients required oxygen support \\n4) Patients in general ward \\n5) Total Patients \\n6)Exit \\n\")\n",
        "  n = int(input())\n",
        "  if n == 1:\n",
        "    c.patient()\n",
        "  elif n == 2:\n",
        "    c.severity()\n",
        "  elif n == 3:\n",
        "    c.oxy_support()\n",
        "  elif n == 4:\n",
        "    c.general()\n",
        "  elif n == 5:\n",
        "    c.total()\n",
        "  else :\n",
        "    print(\"-------------------------------EXIT-----------------------------------\")\n",
        "    break"
      ],
      "execution_count": 27,
      "outputs": [
        {
          "output_type": "stream",
          "name": "stdout",
          "text": [
            "\n",
            "Enter your choice\n",
            "----------------------------------------------------\n",
            "1) Patient's Info \n",
            "2) Check patient's severity \n",
            "3) Patients required oxygen support \n",
            "4) Patients in general ward \n",
            "5) Total Patients \n",
            "6)Exit \n",
            "\n",
            "1\n",
            "Patient Name : Vineeth S R\n",
            "Date of Admission : 15-11-2018\n",
            "List of Symptoms : Fever\n",
            "Oxygen level : 78\n",
            "Date of Discharge : 26-12-2018\n",
            "\n",
            "Enter your choice\n",
            "----------------------------------------------------\n",
            "1) Patient's Info \n",
            "2) Check patient's severity \n",
            "3) Patients required oxygen support \n",
            "4) Patients in general ward \n",
            "5) Total Patients \n",
            "6)Exit \n",
            "\n",
            "1\n",
            "Patient Name : Pranay\n",
            "Date of Admission : 26-10-2018\n",
            "List of Symptoms : cough, cold\n",
            "Oxygen level : 85\n",
            "Date of Discharge : 10-11-2018\n",
            "\n",
            "Enter your choice\n",
            "----------------------------------------------------\n",
            "1) Patient's Info \n",
            "2) Check patient's severity \n",
            "3) Patients required oxygen support \n",
            "4) Patients in general ward \n",
            "5) Total Patients \n",
            "6)Exit \n",
            "\n",
            "2\n",
            "Patient Name : Vineeth S R\n",
            "Patient is in severe condition.\n",
            "\n",
            "Enter your choice\n",
            "----------------------------------------------------\n",
            "1) Patient's Info \n",
            "2) Check patient's severity \n",
            "3) Patients required oxygen support \n",
            "4) Patients in general ward \n",
            "5) Total Patients \n",
            "6)Exit \n",
            "\n",
            "3\n",
            "\n",
            "Number of patients required oxygen support :  1\n",
            "\n",
            "Number of patients required oxygen support :  2\n",
            "\n",
            "Enter your choice\n",
            "----------------------------------------------------\n",
            "1) Patient's Info \n",
            "2) Check patient's severity \n",
            "3) Patients required oxygen support \n",
            "4) Patients in general ward \n",
            "5) Total Patients \n",
            "6)Exit \n",
            "\n",
            "4\n",
            "\n",
            "Enter your choice\n",
            "----------------------------------------------------\n",
            "1) Patient's Info \n",
            "2) Check patient's severity \n",
            "3) Patients required oxygen support \n",
            "4) Patients in general ward \n",
            "5) Total Patients \n",
            "6)Exit \n",
            "\n",
            "5\n",
            "\n",
            "Total number of patients admitted :  2\n",
            "\n",
            "Enter your choice\n",
            "----------------------------------------------------\n",
            "1) Patient's Info \n",
            "2) Check patient's severity \n",
            "3) Patients required oxygen support \n",
            "4) Patients in general ward \n",
            "5) Total Patients \n",
            "6)Exit \n",
            "\n",
            "6\n",
            "-------------------------------EXIT-----------------------------------\n"
          ]
        }
      ]
    },
    {
      "cell_type": "markdown",
      "metadata": {
        "id": "W3OXJT_SeJav"
      },
      "source": [
        "**Problem-6:**\n",
        "\n",
        "Create a Class time that has separate int member data for hours, minutes, and\n",
        "seconds. One\n",
        "constructor should initialize this data to 0 and another should initialize it to fixed\n",
        "values. Another member function should display it in hh:mm: ss format."
      ]
    },
    {
      "cell_type": "code",
      "metadata": {
        "colab": {
          "base_uri": "https://localhost:8080/"
        },
        "id": "5NiZJOwyjVRf",
        "outputId": "7856871c-a0dd-4ef3-a502-6b5d54fe20be"
      },
      "source": [
        "class time :\n",
        "  def __init__(self, hours = 00, min = 00, sec = 00):\n",
        "    self.hours = hours\n",
        "    self.min = min\n",
        "    self.sec = sec\n",
        "\n",
        "  def display(self):\n",
        "    if (self.hours >= 24 or self.hours < 0 and self.min == self.sec == 59):\n",
        "        print(\"Invalid hours (Not Defined)\")\n",
        "    elif (self.min >= 60 or self.min < 0):\n",
        "        print(\"\\nInvalid minutes (Not Defined)\") \n",
        "    elif (self.sec >= 60 or self.sec < 0):\n",
        "        print(\"\\nInvalid seconds (Not Defined)\")\n",
        "    else :\n",
        "        print(\"{}:{}:{}\".format(self.hours, self.min, self.sec))\n",
        "\n",
        "t = time(12,45,59)\n",
        "t.display()"
      ],
      "execution_count": 16,
      "outputs": [
        {
          "output_type": "stream",
          "name": "stdout",
          "text": [
            "12:45:59\n"
          ]
        }
      ]
    },
    {
      "cell_type": "markdown",
      "metadata": {
        "id": "iGg0xoVNe7SG"
      },
      "source": [
        "**Problem-7:**\n",
        "\n",
        "Create a class to store the details of two students: std1(Name= Rahul, Age =21, roll\n",
        "no=33),\n",
        "Std2( Name = Rohit, Age=22, Roll no = 74)\n",
        "Write a function to compare the age of both the students, print whether they are equal\n",
        "or not equal."
      ]
    },
    {
      "cell_type": "code",
      "metadata": {
        "id": "K4vDJ4mWjW5t",
        "colab": {
          "base_uri": "https://localhost:8080/"
        },
        "outputId": "c163fcf8-9014-46f0-d78e-98b25f6e9e83"
      },
      "source": [
        "class student:\n",
        "  def __init__(self, name, roll, age):\n",
        "    self.name = name\n",
        "    self.roll = roll    \n",
        "    self.age = age\n",
        "\n",
        "  def compare(s1,s2):\n",
        "    if s1.age == s2.age:\n",
        "      print(\"Age of {} and {} are equal.\".format(s1.name,s2.name))\n",
        "    else :\n",
        "      print(\"Age of {} and {} are not equal.\".format(s1.name,s2.name))\n",
        "\n",
        "s1 = student(\"Rahul\", 33, 21)\n",
        "s2 = student(\"Rohit\", 74, 22)\n",
        "student.compare(s1,s2)"
      ],
      "execution_count": 17,
      "outputs": [
        {
          "output_type": "stream",
          "name": "stdout",
          "text": [
            "Age of Rahul and Rohit are not equal.\n"
          ]
        }
      ]
    },
    {
      "cell_type": "markdown",
      "metadata": {
        "id": "UVHGewhdfqJt"
      },
      "source": [
        "**Problem-8:**\n",
        "\n",
        "Create an instance of a class to store student details such as Sem, Institute, Name, and\n",
        "usn where:\n",
        "1. Sem and Institute details should be class variables.\n",
        "2. Name and usn should be instance variables.\n",
        "\n",
        "And also, print the instance variable using the instance method and class variable\n",
        "using the class method, also use a static method to print an explanation about the\n",
        "class."
      ]
    },
    {
      "cell_type": "code",
      "metadata": {
        "id": "Rk-gdFuAjeWR",
        "colab": {
          "base_uri": "https://localhost:8080/"
        },
        "outputId": "d0b12acc-76c8-4ac8-abb5-464727fe7899"
      },
      "source": [
        "class student:\n",
        "  def __init__(self, name, usn, sem, institute):\n",
        "    self.name = name\n",
        "    self.usn = usn\n",
        "    self.sem = sem\n",
        "    self.institute = institute\n",
        "\n",
        "  def show(self):\n",
        "    print(\"Name : \" + self.name + '\\n' + \"USN : \"+ self.usn)\n",
        "\n",
        "  def classmethod(self):\n",
        "    print(\"Sem : \" + self.sem + '\\n' + \"Institute : \" + self.institute)\n",
        "\n",
        "  def staticmethod(self):\n",
        "    print(\"\\nA class to store student details such as Sem, Institute, Name, and usn.\")\n",
        "    print(\"------------------------------------------------------------------------------\")\n",
        "\n",
        "s1 = student(\"Vineeth S R\", \"137\", \"Third\", \"IIITDharwad\")\n",
        "s1.staticmethod()\n",
        "s1.show()\n",
        "s1.classmethod()\n",
        "\n",
        "s2 = student(\"Pranay\", \"196\", \"Third\", \"IIITDharwad\")\n",
        "s2.staticmethod()\n",
        "s2.show()\n",
        "s2.classmethod()"
      ],
      "execution_count": 21,
      "outputs": [
        {
          "output_type": "stream",
          "name": "stdout",
          "text": [
            "\n",
            "A class to store student details such as Sem, Institute, Name, and usn.\n",
            "------------------------------------------------------------------------------\n",
            "Name : Vineeth S R\n",
            "USN : 137\n",
            "Sem : Third\n",
            "Institute : IIITDharwad\n",
            "\n",
            "A class to store student details such as Sem, Institute, Name, and usn.\n",
            "------------------------------------------------------------------------------\n",
            "Name : Pranay\n",
            "USN : 196\n",
            "Sem : Third\n",
            "Institute : IIITDharwad\n"
          ]
        }
      ]
    },
    {
      "cell_type": "markdown",
      "metadata": {
        "id": "c_HltStNiP_l"
      },
      "source": [
        "**Problem-9:**\n",
        "\n",
        "Write a python program to create a student class with the variable Name, Roll no, and\n",
        "Sem, also the student is having a laptop create an instance of an inner class laptop\n",
        "with variable cpu, Ram, and hard disk and display details. Also, create multiple\n",
        "objects for the inner class laptop."
      ]
    },
    {
      "cell_type": "code",
      "metadata": {
        "colab": {
          "base_uri": "https://localhost:8080/"
        },
        "id": "GQlReluqjpFd",
        "outputId": "d8b39b73-7824-4241-fb2f-201452dc2e76"
      },
      "source": [
        "class student( object ):\n",
        "  def __init__(self, name, roll, sem):\n",
        "    self.name = name\n",
        "    self.roll = roll\n",
        "    self.sem = sem\n",
        "\n",
        "class laptop(student):\n",
        "  def __init__(self, cpu, ram, harddisk, name, roll, sem):\n",
        "    self.cpu = cpu\n",
        "    self.ram = ram\n",
        "    self.harddisk = harddisk\n",
        "    self.name = name\n",
        "    self.roll = roll\n",
        "    self.sem = sem\n",
        "\n",
        "  def display(self):\n",
        "    print(\"Displaying Student and Laptop details\")\n",
        "    print(\"----------------------------------------------\")\n",
        "    print(\"\\nName : \" + self.name + \"\\nRoll No. : \" + self.roll + \"\\nSemester : \" + self.sem + \"\\nCPU : \" + self.cpu + \"\\nRAM : \" + self.ram + \"\\nHard Disk : \" + self.harddisk)\n",
        "\n",
        "l1 = laptop(\"Pentium Processor\", \"4gb\", \"1tb\", \"Vineeth S R\", \"20BCS137\", \"Third\")\n",
        "l1.display()\n"
      ],
      "execution_count": 19,
      "outputs": [
        {
          "output_type": "stream",
          "name": "stdout",
          "text": [
            "Displaying Student and Laptop details\n",
            "----------------------------------------------\n",
            "\n",
            "Name : Vineeth S R\n",
            "Roll No. : 20BCS137\n",
            "Semester : Third\n",
            "CPU : Pentium Processor\n",
            "RAM : 4gb\n",
            "Hard Disk : 1tb\n"
          ]
        }
      ]
    }
  ]
}